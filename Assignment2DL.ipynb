{
 "cells": [
  {
   "cell_type": "code",
   "execution_count": 2,
   "outputs": [
    {
     "name": "stdout",
     "output_type": "stream",
     "text": [
      "Epoch 1/6\n",
      "196/196 [==============================] - 28s 140ms/step - loss: 0.4472 - accuracy: 0.7696 - val_loss: 0.3172 - val_accuracy: 0.8645\n",
      "Epoch 2/6\n",
      "196/196 [==============================] - 26s 133ms/step - loss: 0.2168 - accuracy: 0.9164 - val_loss: 0.3192 - val_accuracy: 0.8662\n",
      "Epoch 3/6\n",
      "196/196 [==============================] - 27s 137ms/step - loss: 0.1203 - accuracy: 0.9574 - val_loss: 0.3982 - val_accuracy: 0.8527\n",
      "Epoch 4/6\n",
      "196/196 [==============================] - 29s 147ms/step - loss: 0.0493 - accuracy: 0.9860 - val_loss: 0.5397 - val_accuracy: 0.8510\n",
      "Epoch 5/6\n",
      "196/196 [==============================] - 31s 160ms/step - loss: 0.0130 - accuracy: 0.9973 - val_loss: 0.6974 - val_accuracy: 0.8518\n",
      "Epoch 6/6\n",
      "196/196 [==============================] - 27s 140ms/step - loss: 0.0030 - accuracy: 0.9998 - val_loss: 0.8326 - val_accuracy: 0.8506\n",
      "Test loss: 0.8325796127319336\n",
      "Test accuracy: 0.850600004196167\n"
     ]
    }
   ],
   "source": [
    "from keras.datasets import imdb\n",
    "from keras.models import Sequential\n",
    "from keras.layers import Dense, Embedding, Flatten, Conv1D, MaxPooling1D\n",
    "from keras.utils import pad_sequences\n",
    "\n",
    "# Load the IMDB dataset\n",
    "max_features = 10000 # Maximum number of words to keep based on word frequency\n",
    "maxlen = 200 # Maximum length of each review (in words)\n",
    "(x_train, y_train), (x_test, y_test) = imdb.load_data(num_words=max_features)\n",
    "\n",
    "# Preprocess the data\n",
    "x_train = pad_sequences(x_train, maxlen=maxlen)\n",
    "x_test = pad_sequences(x_test, maxlen=maxlen)\n",
    "\n",
    "# Train a deep learning model\n",
    "model = Sequential()\n",
    "model.add(Embedding(max_features, 128, input_length=maxlen))\n",
    "model.add(Conv1D(32, 7, activation=\"relu\"))\n",
    "model.add(MaxPooling1D(5))\n",
    "model.add(Conv1D(32, 7, activation=\"relu\"))\n",
    "model.add(Flatten())\n",
    "model.add(Dense(1, activation=\"sigmoid\"))\n",
    "model.compile(loss=\"binary_crossentropy\", optimizer=\"adam\", metrics=[\"accuracy\"])\n",
    "model.fit(x_train, y_train, batch_size=128, epochs=6, validation_data=(x_test, y_test))\n",
    "\n",
    "# Evaluate the model\n",
    "score = model.evaluate(x_test, y_test, verbose=0)\n",
    "print(\"Test loss:\", score[0])\n",
    "print(\"Test accuracy:\", score[1])\n"
   ],
   "metadata": {
    "collapsed": false
   }
  }
 ],
 "metadata": {
  "kernelspec": {
   "display_name": "Python 3",
   "language": "python",
   "name": "python3"
  },
  "language_info": {
   "codemirror_mode": {
    "name": "ipython",
    "version": 2
   },
   "file_extension": ".py",
   "mimetype": "text/x-python",
   "name": "python",
   "nbconvert_exporter": "python",
   "pygments_lexer": "ipython2",
   "version": "2.7.6"
  }
 },
 "nbformat": 4,
 "nbformat_minor": 0
}
